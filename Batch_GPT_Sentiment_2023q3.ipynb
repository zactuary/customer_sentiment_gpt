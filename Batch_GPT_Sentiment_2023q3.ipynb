{
 "cells": [
  {
   "cell_type": "code",
   "execution_count": null,
   "metadata": {},
   "outputs": [],
   "source": [
    "# Purpose: The following is a batch program to get sentiment class and summarized key points from OpenAI ChatGPT  \n",
    "#          given a spreadsheet with records of customer feedback in text. \n",
    "#          This is an example program used for my Casualty Actuarial Society 2023 Annual Meeting presentation  \n",
    "#          NPS_rawgrade is customer satisfaction score, which is optional. It is included to allow for assocation analysis\n",
    "#          between output sentiment and satisfaction store. \n",
    "# By:      Frank Zhang - June 2023"
   ]
  },
  {
   "cell_type": "code",
   "execution_count": null,
   "metadata": {},
   "outputs": [],
   "source": [
    "import os\n",
    "import re as re\n",
    "import openai\n",
    "import pandas as pd\n",
    "import numpy as np\n",
    " \n",
    "openai.api_key = \"_api_key_for_your_openai_account_\"\n",
    "\n",
    "# example of model_type: \"text-davinci-003\" or \"gpt-4-0613\"\n",
    "# temperature 0-1, with lower value for more focused, coherent, and conservative output\n",
    "def run_model(prompt, model_type):\n",
    "  response = openai.Completion.create(\n",
    "    model=model_type,\n",
    "    prompt = prompt,\n",
    "    temperature=0.3,   \n",
    "    max_tokens=256,\n",
    "    top_p=1,\n",
    "    frequency_penalty=0,\n",
    "    presence_penalty=0\n",
    "  )\n",
    "  \n",
    "  return response['choices'][0].message.content\n",
    "  \n",
    " \n",
    "def loop_all(df_in, model_type):\n",
    "   sentiment = []\n",
    "   topic = []\n",
    "\n",
    "   for i in range(len(df_in.index)):\n",
    "      comment = df_in.iloc[i][\"comments\"]\n",
    "      last_char = [\".\", \"?\", \"!\"] \n",
    "      if not (comment[-1] in last_char):\n",
    "         comment=comment+\".\"\n",
    "\n",
    "      try:\n",
    "         sentiment_prompt = \"[Classify the following paragraph into one of the following five sentiments - very negative, negative, neutral, positive, and very positive:] \\n \" + comment \n",
    "         topic_promt = \"[Without auto-completing text, list one to three main topics discussed in the following paragraph:]\\n\" + comment\n",
    "\n",
    "         sentiment_res = \"\"\n",
    "         topic_res = \"\"\n",
    "        \n",
    "         sentiment_res = run_model(sentiment_prompt, model_type) \n",
    "\n",
    "         if len((df_in.iloc[i][\"comments\"]).split())>=3:\n",
    "            topic_res = run_model(topic_promt, model_type) \n",
    " \n",
    "         sentiment.append(sentiment_res)\n",
    "         topic.append(topic_res)\n",
    "\n",
    "         if (i % 100==0):\n",
    "            print(\"... Proceeding record  \"+str(i))\n",
    "      except:\n",
    "         sentiment.append(\"\")\n",
    "         topic.append(\"\")\n",
    "         print(\"***An error occured processing record \"+str(i) + \"\\n\" + df_in.iloc[i][\"comments\"])\n",
    "\n",
    "         pass\n",
    " \n",
    "   df_out = df_in\n",
    "   df_out['sentiment'] = sentiment\n",
    "   df_out['topic'] = topic\n",
    "\n",
    "   return(df_out)"
   ]
  },
  {
   "cell_type": "code",
   "execution_count": 2,
   "metadata": {},
   "outputs": [
    {
     "name": "stdout",
     "output_type": "stream",
     "text": [
      "(1171, 3)\n"
     ]
    },
    {
     "data": {
      "text/html": [
       "<div>\n",
       "<style scoped>\n",
       "    .dataframe tbody tr th:only-of-type {\n",
       "        vertical-align: middle;\n",
       "    }\n",
       "\n",
       "    .dataframe tbody tr th {\n",
       "        vertical-align: top;\n",
       "    }\n",
       "\n",
       "    .dataframe thead th {\n",
       "        text-align: right;\n",
       "    }\n",
       "</style>\n",
       "<table border=\"1\" class=\"dataframe\">\n",
       "  <thead>\n",
       "    <tr style=\"text-align: right;\">\n",
       "      <th></th>\n",
       "      <th>repond_id</th>\n",
       "      <th>nps_rawgrade</th>\n",
       "      <th>comments</th>\n",
       "    </tr>\n",
       "  </thead>\n",
       "  <tbody>\n",
       "    <tr>\n",
       "      <th>0</th>\n",
       "      <td>203950</td>\n",
       "      <td>9.0</td>\n",
       "      <td>Great job all around.</td>\n",
       "    </tr>\n",
       "    <tr>\n",
       "      <th>1</th>\n",
       "      <td>203949</td>\n",
       "      <td>10.0</td>\n",
       "      <td>Let me know what was done with the girl that h...</td>\n",
       "    </tr>\n",
       "    <tr>\n",
       "      <th>2</th>\n",
       "      <td>203945</td>\n",
       "      <td>10.0</td>\n",
       "      <td>Mail check directly to lender (Regions Mortgag...</td>\n",
       "    </tr>\n",
       "    <tr>\n",
       "      <th>3</th>\n",
       "      <td>203944</td>\n",
       "      <td>10.0</td>\n",
       "      <td>No need to improve - they did a good job. Than...</td>\n",
       "    </tr>\n",
       "    <tr>\n",
       "      <th>4</th>\n",
       "      <td>203943</td>\n",
       "      <td>10.0</td>\n",
       "      <td>Overall we were very happy! But - I don't unde...</td>\n",
       "    </tr>\n",
       "  </tbody>\n",
       "</table>\n",
       "</div>"
      ],
      "text/plain": [
       "   repond_id  nps_rawgrade                                           comments\n",
       "0     203950           9.0                              Great job all around.\n",
       "1     203949          10.0  Let me know what was done with the girl that h...\n",
       "2     203945          10.0  Mail check directly to lender (Regions Mortgag...\n",
       "3     203944          10.0  No need to improve - they did a good job. Than...\n",
       "4     203943          10.0  Overall we were very happy! But - I don't unde..."
      ]
     },
     "execution_count": 2,
     "metadata": {},
     "output_type": "execute_result"
    }
   ],
   "source": [
    "df_comment_qtrly = pd.read_excel(\"./df_comment_2023q3.xlsx\") # removed empty comments or with the following values: N/A NA, None, margin comment: none\n",
    "print(df_comment_qtrly.shape)"
   ]
  },
  {
   "cell_type": "code",
   "execution_count": 3,
   "metadata": {},
   "outputs": [],
   "source": [
    "df_comment_qtrly[\"nps_rawgrade_category\"] = pd.cut(df_comment_qtrly[\"nps_rawgrade\"], [-1,6,8,10], labels=[\"Detractors\",\"Neutrals\", \"Promoters\"])"
   ]
  },
  {
   "cell_type": "code",
   "execution_count": 4,
   "metadata": {},
   "outputs": [],
   "source": [
    "df_in = df_comment_qtrly\n",
    "#df_comment_with_gpt_sentiment = loop_all(df_in,\"gpt-4\")    # https://platform.openai.com/account/rate-limits -- reaching limit\n",
    " "
   ]
  },
  {
   "cell_type": "code",
   "execution_count": 8,
   "metadata": {},
   "outputs": [
    {
     "name": "stdout",
     "output_type": "stream",
     "text": [
      "... Proceeding record  0\n",
      "... Proceeding record  100\n",
      "... Proceeding record  200\n",
      "... Proceeding record  300\n",
      "... Proceeding record  400\n",
      "... Proceeding record  500\n",
      "... Proceeding record  600\n",
      "... Proceeding record  700\n",
      "... Proceeding record  800\n",
      "... Proceeding record  900\n",
      "... Proceeding record  1000\n",
      "... Proceeding record  1100\n"
     ]
    }
   ],
   "source": [
    "df_comment_with_gpt_sentiment = loop_all(df_in, \"text-davinci-003\") "
   ]
  },
  {
   "cell_type": "code",
   "execution_count": 10,
   "metadata": {},
   "outputs": [],
   "source": [
    "# df_comment_with_gpt_sentiment.to_csv(\"junk.csv\")\n",
    "\n",
    "df_comment_with_gpt_sentiment.to_csv(\"df_comment_with_gpt_sentiment_2023q3.csv\")\n"
   ]
  }
 ],
 "metadata": {
  "kernelspec": {
   "display_name": "Python 3",
   "language": "python",
   "name": "python3"
  },
  "language_info": {
   "codemirror_mode": {
    "name": "ipython",
    "version": 3
   },
   "file_extension": ".py",
   "mimetype": "text/x-python",
   "name": "python",
   "nbconvert_exporter": "python",
   "pygments_lexer": "ipython3",
   "version": "3.10.8"
  },
  "orig_nbformat": 4
 },
 "nbformat": 4,
 "nbformat_minor": 2
}
